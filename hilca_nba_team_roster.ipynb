{
 "cells": [
  {
   "cell_type": "code",
   "execution_count": 1,
   "metadata": {},
   "outputs": [],
   "source": [
    "# If you don't have Beautiful Soup, install with 'conda install beautifulsoup' in terminal\n",
    "# Python requires us to explicitly load the libraries that we want to use:\n",
    "\n",
    "import math\n",
    "from math import pi\n",
    "import matplotlib as plt\n",
    "import requests\n",
    "import bs4\n",
    "import re\n"
   ]
  },
  {
   "cell_type": "code",
   "execution_count": 2,
   "metadata": {},
   "outputs": [],
   "source": [
    "# Load a webpage into python so that we can parse it and manipulate it.\n",
    "\n",
    "URL = 'https://www.espn.com/nba/team/roster/_/name/atl/atlanta-hawks'"
   ]
  },
  {
   "cell_type": "code",
   "execution_count": 3,
   "metadata": {},
   "outputs": [],
   "source": [
    "# Control of Connection\n",
    "# We just turned the website code into a Python object. \n",
    "response = requests.get(URL)"
   ]
  },
  {
   "cell_type": "code",
   "execution_count": 4,
   "metadata": {},
   "outputs": [],
   "source": [
    "# Print the output\n",
    "# print(response.text) "
   ]
  },
  {
   "cell_type": "code",
   "execution_count": 5,
   "metadata": {},
   "outputs": [],
   "source": [
    "soup = bs4.BeautifulSoup(response.text, \"html.parser\")"
   ]
  },
  {
   "cell_type": "code",
   "execution_count": 6,
   "metadata": {},
   "outputs": [],
   "source": [
    "# find all the tags with class city or number\n",
    "data = soup.findAll(attrs={'class':['inline']})\n"
   ]
  },
  {
   "cell_type": "code",
   "execution_count": 8,
   "metadata": {},
   "outputs": [
    {
     "data": {
      "text/plain": [
       "34"
      ]
     },
     "execution_count": 8,
     "metadata": {},
     "output_type": "execute_result"
    }
   ],
   "source": [
    "f = open('hilca_nba_team_roster.csv','w') # open new file, make sure path to your data file is correct\n",
    "f.write(\"Name\\tPos\\tAge\\tHT\\tWT\\tCollege\\tSalary\" + \"\\n\") #write headers"
   ]
  },
  {
   "cell_type": "code",
   "execution_count": 12,
   "metadata": {},
   "outputs": [],
   "source": [
    "datas = []\n",
    "for elemento in data:\n",
    "    TAG_RE = re.compile(r'<[^>]+>')\n",
    "    text = TAG_RE.sub('', str(elemento))\n",
    "    datas.append(text)"
   ]
  },
  {
   "cell_type": "code",
   "execution_count": 10,
   "metadata": {},
   "outputs": [],
   "source": [
    "i = 0\n",
    "j = 0\n",
    "for item in datas:\n",
    "    if not item:\n",
    "        i = 0\n",
    "        j = j + 1\n",
    "        if j > 1: f.write(\"\\n\")\n",
    "    else:\n",
    "        i = i + 1\n",
    "        if (i == 1): f.write(item + \"\\t\") # write name and add comma\n",
    "        if (i == 2): f.write(item + \"\\t\") # write pos and add comma\n",
    "        if (i == 3): f.write(item + \"\\t\") # write age and add comma\n",
    "        if (i == 4): f.write(item + \"\\t\") # write ht and add comma\n",
    "        if (i == 5): f.write(item + \"\\t\") # write wt and add comma\n",
    "        if (i == 6): f.write(item + \"\\t\") # write college and add comma\n",
    "        if (i == 7): f.write(item) # write salary and add comma\n",
    "        "
   ]
  },
  {
   "cell_type": "code",
   "execution_count": 11,
   "metadata": {},
   "outputs": [],
   "source": [
    "    f.close() # close file"
   ]
  }
 ],
 "metadata": {
  "kernelspec": {
   "display_name": "Python 3",
   "language": "python",
   "name": "python3"
  },
  "language_info": {
   "codemirror_mode": {
    "name": "ipython",
    "version": 3
   },
   "file_extension": ".py",
   "mimetype": "text/x-python",
   "name": "python",
   "nbconvert_exporter": "python",
   "pygments_lexer": "ipython3",
   "version": "3.8.3"
  }
 },
 "nbformat": 4,
 "nbformat_minor": 2
}
